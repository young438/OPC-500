{
 "cells": [
  {
   "cell_type": "markdown",
   "metadata": {},
   "source": [
    "# Abstract Algebra Play Experiments "
   ]
  },
  {
   "cell_type": "code",
   "execution_count": 1,
   "metadata": {},
   "outputs": [],
   "source": [
    "from dataclasses import dataclass"
   ]
  },
  {
   "cell_type": "code",
   "execution_count": 2,
   "metadata": {},
   "outputs": [],
   "source": [
    " class House:\n",
    "    def __init__(self, square_footage:int = 0, num_doors:int = 0 , price: float = 0):\n",
    "        \"\"\"\n",
    "        Create an instance of the House class\n",
    "        \"\"\"\n",
    "        self.square_footage = square_footage\n",
    "        self.num_doors = num_doors\n",
    "        self.price = price\n"
   ]
  },
  {
   "cell_type": "code",
   "execution_count": 3,
   "metadata": {},
   "outputs": [],
   "source": [
    "my_house = House(square_footage = 10000, num_doors = 15, price = 1_000_000)\n",
    "your_house = House(square_footage = 12000, num_doors = 2, price = 2_000_000)"
   ]
  },
  {
   "cell_type": "code",
   "execution_count": 4,
   "metadata": {},
   "outputs": [
    {
     "data": {
      "text/plain": [
       "15"
      ]
     },
     "execution_count": 4,
     "metadata": {},
     "output_type": "execute_result"
    }
   ],
   "source": [
    "my_house.num_doors"
   ]
  },
  {
   "cell_type": "code",
   "execution_count": 5,
   "metadata": {},
   "outputs": [],
   "source": [
    "@dataclass\n",
    "class NewHouse:\n",
    "    square_footage:int = 0\n",
    "    num_doors:int = 0\n",
    "    price:float = 0"
   ]
  },
  {
   "cell_type": "code",
   "execution_count": 6,
   "metadata": {},
   "outputs": [],
   "source": [
    "my_new_house = NewHouse(square_footage = 10)"
   ]
  },
  {
   "cell_type": "code",
   "execution_count": 7,
   "metadata": {},
   "outputs": [
    {
     "data": {
      "text/plain": [
       "10"
      ]
     },
     "execution_count": 7,
     "metadata": {},
     "output_type": "execute_result"
    }
   ],
   "source": [
    "my_new_house.square_footage"
   ]
  },
  {
   "cell_type": "code",
   "execution_count": 8,
   "metadata": {},
   "outputs": [
    {
     "name": "stdout",
     "output_type": "stream",
     "text": [
      "The value of square_footage is 10\n",
      "The value of num_doors is 0\n",
      "The value of price is 0\n"
     ]
    }
   ],
   "source": [
    "for key, val in my_new_house.__dict__.items():\n",
    "    print(f\"The value of {key} is {val}\")"
   ]
  },
  {
   "cell_type": "code",
   "execution_count": 10,
   "metadata": {},
   "outputs": [],
   "source": [
    "class IntegersModN:\n",
    "    # Constructor\n",
    "    def __init__(self, modulus: int = None):\n",
    "        # Check for trouble on modulus\n",
    "        assert not(modulus is None), \"IntegerModN requires an integer modulus.\"\n",
    "\n",
    "        self.modulus = modulus\n",
    "        self.elements = [x for x in range(0, modulus)]\n",
    "\n",
    "    # Arithmetic Operations\n",
    "    def add(self, first: int, second:int):\n",
    "        \"\"\" \n",
    "        Add two integers modulo n. \n",
    "        \"\"\"\n",
    "        result = (first + second)% self.modulus\n",
    "        return result\n",
    "\n",
    "    def multiply(self, first: int, second: int):\n",
    "        \"\"\"\n",
    "        Multiply two integers modulo n.\n",
    "        \"\"\"\n",
    "        result = (first * second)%self.modulus\n",
    "        return result\n"
   ]
  },
  {
   "cell_type": "code",
   "execution_count": 11,
   "metadata": {},
   "outputs": [],
   "source": [
    "IntegersMod5 = IntegersModN(modulus= 5)"
   ]
  },
  {
   "cell_type": "code",
   "execution_count": 12,
   "metadata": {},
   "outputs": [
    {
     "data": {
      "text/plain": [
       "[0, 1, 2, 3, 4]"
      ]
     },
     "execution_count": 12,
     "metadata": {},
     "output_type": "execute_result"
    }
   ],
   "source": [
    "IntegersMod5.elements"
   ]
  },
  {
   "cell_type": "code",
   "execution_count": 13,
   "metadata": {},
   "outputs": [
    {
     "data": {
      "text/plain": [
       "2"
      ]
     },
     "execution_count": 13,
     "metadata": {},
     "output_type": "execute_result"
    }
   ],
   "source": [
    "IntegersMod5.add(3,4)"
   ]
  },
  {
   "cell_type": "code",
   "execution_count": 14,
   "metadata": {},
   "outputs": [
    {
     "data": {
      "text/plain": [
       "1"
      ]
     },
     "execution_count": 14,
     "metadata": {},
     "output_type": "execute_result"
    }
   ],
   "source": [
    "IntegersMod5.multiply(2,3)"
   ]
  },
  {
   "cell_type": "code",
   "execution_count": null,
   "metadata": {},
   "outputs": [],
   "source": []
  }
 ],
 "metadata": {
  "kernelspec": {
   "display_name": "Python 3 (ipykernel)",
   "language": "python",
   "name": "python3"
  },
  "language_info": {
   "codemirror_mode": {
    "name": "ipython",
    "version": 3
   },
   "file_extension": ".py",
   "mimetype": "text/x-python",
   "name": "python",
   "nbconvert_exporter": "python",
   "pygments_lexer": "ipython3",
   "version": "3.11.5"
  }
 },
 "nbformat": 4,
 "nbformat_minor": 4
}
